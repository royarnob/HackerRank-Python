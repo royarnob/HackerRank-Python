{
 "cells": [
  {
   "cell_type": "markdown",
   "id": "f2912b3d",
   "metadata": {},
   "source": [
    "**The Minion Game**"
   ]
  },
  {
   "cell_type": "code",
   "execution_count": null,
   "id": "7c7bdfc3",
   "metadata": {},
   "outputs": [
    {
     "name": "stdout",
     "output_type": "stream",
     "text": [
      "ABCDEFGHIJKLMNOPQRSTUVWXYZ\n",
      "['B', 'C', 'D', 'F', 'G', 'H', 'J', 'K', 'L', 'M', 'N', 'P', 'Q', 'R', 'S', 'T', 'V', 'W', 'X', 'Y', 'Z']\n",
      "['A', 'E', 'I', 'O', 'U']\n"
     ]
    }
   ],
   "source": [
    "import string\n",
    "\n",
    "consonants = []\n",
    "vowels = [\"A\",\"E\",\"I\",\"O\",\"U\"]\n",
    "\n",
    "alphabet_upper = string.ascii_uppercase\n",
    "\n",
    "for i in alphabet_upper:\n",
    "    if i not in vowels:\n",
    "        consonants.append(i)\n",
    "\n",
    "print(alphabet_upper)\n",
    "print(consonants)\n",
    "print(vowels)\n"
   ]
  },
  {
   "cell_type": "code",
   "execution_count": null,
   "id": "f07c2379",
   "metadata": {},
   "outputs": [],
   "source": [
    "    s = \"BANANA\"\n",
    "\n",
    "    vowels = [\"A\",\"E\",\"I\",\"O\",\"U\"]\n",
    "\n",
    "    stuart_score = 0\n",
    "    kevin_score = 0\n",
    "\n",
    "\n",
    "    for i in range(0, len(string)):\n",
    "        if string[i] in vowels:\n",
    "            for j in range(i,len(string)):\n",
    "                kevin_score += 1\n",
    "        else:\n",
    "            for j in range(i,len(string)):\n",
    "                stuart_score += 1\n",
    "\n",
    "\n",
    "    if kevin_score > stuart_score:\n",
    "        print(\"Kevin \", kevin_score)\n",
    "    elif stuart_score > kevin_score:\n",
    "        print(\"Stuart \", stuart_score)\n",
    "    else:\n",
    "        print(\"Draw\")"
   ]
  },
  {
   "cell_type": "code",
   "execution_count": 89,
   "id": "38f1711b",
   "metadata": {},
   "outputs": [
    {
     "name": "stdout",
     "output_type": "stream",
     "text": [
      "Stuart  12\n",
      "['A', 'AN', 'ANA', 'ANAN', 'ANANA', 'A', 'AN', 'ANA', 'A']\n",
      "['B', 'BA', 'BAN', 'BANA', 'BANAN', 'BANANA', 'N', 'NA', 'NAN', 'NANA', 'N', 'NA']\n"
     ]
    }
   ],
   "source": [
    "s = \"BANANA\"\n",
    "\n",
    "vowels = [\"A\",\"E\",\"I\",\"O\",\"U\"]\n",
    "\n",
    "stuart_substring = []\n",
    "kevin_substring = []\n",
    "\n",
    "stuart_score = 0\n",
    "kevin_score = 0\n",
    "\n",
    "\n",
    "for i in range(0, len(string)):\n",
    "    if string[i] in vowels:\n",
    "        for j in range(i,len(string)):\n",
    "            kevin_substring.append(string[i:j+1])\n",
    "            kevin_score += 1\n",
    "    else:\n",
    "        for j in range(i,len(string)):\n",
    "            stuart_substring.append(string[i:j+1])\n",
    "            stuart_score += 1\n",
    "\n",
    "\n",
    "if kevin_score > stuart_score:\n",
    "    print(\"Kevin \", kevin_score)\n",
    "elif stuart_score > kevin_score:\n",
    "    print(\"Stuart \", stuart_score)\n",
    "else:\n",
    "    print(\"Draw\")\n",
    "\n",
    "\n",
    "print(kevin_substring)\n",
    "print(stuart_substring)"
   ]
  },
  {
   "cell_type": "code",
   "execution_count": null,
   "id": "3cacacd2",
   "metadata": {},
   "outputs": [
    {
     "name": "stdout",
     "output_type": "stream",
     "text": [
      "B\n",
      "N\n",
      "N\n",
      "A\n",
      "A\n",
      "A\n"
     ]
    }
   ],
   "source": [
    "string = \"BANANA\"\n",
    "\n",
    "stuart_substring = []\n",
    "kevin_substring = []\n",
    "\n",
    "#STUART, Starts with consonants\n",
    "for i in range(0,len(string)):\n",
    "    if string[i] in consonants:\n",
    "        print(string[i])\n",
    "        for j in range(1,len(string[i:])+1):\n",
    "            new_stuart_substring = (string[i:])[0:j]\n",
    "            if new_stuart_substring not in stuart_substring:\n",
    "                stuart_substring.append(new_stuart_substring)\n",
    "\n",
    "#KEVIN, Starts with vowels\n",
    "for i in range(0,len(string)):\n",
    "    if string[i] in vowels:\n",
    "        print(string[i])\n",
    "        for j in range(1,len(string[i:])+1):\n",
    "            new_kevin_substring = (string[i:])[0:j]\n",
    "            if new_kevin_substring not in kevin_substring:\n",
    "                kevin_substring.append(new_kevin_substring)\n",
    "\n",
    "stuart_score = 0\n",
    "kevin_score = 0\n",
    "\n",
    "for i in stuart_substring:\n",
    "    for j in range(0,len(string)):\n",
    "        if i in string[j:j+len(i)]:\n",
    "            stuart_score += 1\n",
    "\n",
    "for i in kevin_substring:\n",
    "    for j in range(0,len(string)):\n",
    "        if i in string[j:j+len(i)]:\n",
    "            kevin_score += 1\n"
   ]
  },
  {
   "cell_type": "code",
   "execution_count": 67,
   "id": "2c00cdb6",
   "metadata": {},
   "outputs": [
    {
     "name": "stdout",
     "output_type": "stream",
     "text": [
      "['B', 'BA', 'BAN', 'BANA', 'BANAN', 'BANANA', 'N', 'NA', 'NAN', 'NANA']\n",
      "['A', 'AN', 'ANA', 'ANAN', 'ANANA']\n",
      "12\n",
      "9\n"
     ]
    }
   ],
   "source": [
    "print(stuart_substring)\n",
    "print(kevin_substring)\n",
    "print(stuart_score)\n",
    "print(kevin_score)"
   ]
  }
 ],
 "metadata": {
  "kernelspec": {
   "display_name": "base",
   "language": "python",
   "name": "python3"
  },
  "language_info": {
   "codemirror_mode": {
    "name": "ipython",
    "version": 3
   },
   "file_extension": ".py",
   "mimetype": "text/x-python",
   "name": "python",
   "nbconvert_exporter": "python",
   "pygments_lexer": "ipython3",
   "version": "3.12.7"
  }
 },
 "nbformat": 4,
 "nbformat_minor": 5
}
